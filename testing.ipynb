{
 "cells": [
  {
   "cell_type": "code",
   "execution_count": 13,
   "metadata": {
    "collapsed": false,
    "pycharm": {
     "name": "#%%\n"
    }
   },
   "outputs": [
    {
     "data": {
      "text/plain": [
       "'d:\\\\Linh TInh\\\\Sang RD\\\\FL-DP'"
      ]
     },
     "execution_count": 13,
     "metadata": {},
     "output_type": "execute_result"
    }
   ],
   "source": [
    "%pwd"
   ]
  },
  {
   "cell_type": "code",
   "execution_count": 20,
   "metadata": {
    "collapsed": false,
    "pycharm": {
     "name": "#%%\n"
    }
   },
   "outputs": [
    {
     "name": "stderr",
     "output_type": "stream",
     "text": [
      "[nltk_data] Downloading package stopwords to\n",
      "[nltk_data]     C:\\Users\\ADMIN\\AppData\\Roaming\\nltk_data...\n",
      "[nltk_data]   Package stopwords is already up-to-date!\n",
      "[nltk_data] Downloading package wordnet to\n",
      "[nltk_data]     C:\\Users\\ADMIN\\AppData\\Roaming\\nltk_data...\n",
      "[nltk_data]   Package wordnet is already up-to-date!\n",
      "[nltk_data] Downloading package omw-1.4 to\n",
      "[nltk_data]     C:\\Users\\ADMIN\\AppData\\Roaming\\nltk_data...\n",
      "[nltk_data]   Package omw-1.4 is already up-to-date!\n",
      "[nltk_data] Downloading package punkt to\n",
      "[nltk_data]     C:\\Users\\ADMIN\\AppData\\Roaming\\nltk_data...\n",
      "[nltk_data]   Package punkt is already up-to-date!\n"
     ]
    }
   ],
   "source": [
    "from tek4fed import data_lib\n",
    "import numpy as np\n",
    "import pandas as pd\n",
    "import matplotlib.pyplot as plt\n",
    "import re, string, unicodedata\n",
    "import nltk\n",
    "from nltk.corpus import stopwords\n",
    "from textblob import Word\n",
    "nltk.download('stopwords')\n",
    "nltk.download('wordnet')\n",
    "nltk.download('omw-1.4')\n",
    "nltk.download('punkt')\n",
    "from nltk.stem.porter import PorterStemmer\n",
    "from wordcloud import WordCloud,STOPWORDS\n",
    "from nltk.stem import WordNetLemmatizer\n",
    "from nltk.tokenize import word_tokenize, sent_tokenize\n",
    "from nltk import pos_tag\n",
    "from nltk.corpus import wordnet\n",
    "import pandas as pd\n",
    "import torch\n",
    "from torchtext.data.utils import get_tokenizer\n",
    "from torchtext.vocab import build_vocab_from_iterator\n",
    "\n",
    "\n",
    "seed = 2023\n",
    "torch.manual_seed(seed)\n",
    "\n",
    "\n",
    "def cleaning_smsspam_dataset(df_data):\n",
    "    # covert uppercase letters to lowercase letters\n",
    "    df_data['text'] = df_data['text'].apply(lambda x: ' '.join(\n",
    "        x.lower() for x in x.split()\n",
    "    ))\n",
    "\n",
    "    # delete puctuation marks\n",
    "    df_data['text'] = df_data['text'].str.replace('[^\\w\\s]', '')\n",
    "\n",
    "    # delete numbers from texts\n",
    "    df_data['text'] = df_data['text'].str.replace('\\d', '')\n",
    "\n",
    "    # delete stopwords and punctuation\n",
    "    stop_words = set(stopwords.words('english'))\n",
    "    punctuation = list(string.punctuation)\n",
    "    stop_words.update(punctuation)\n",
    "    df_data['text'] = df_data['text'].apply(lambda x: ' '.join(\n",
    "        x for x in x.split() if x not in stop_words\n",
    "    ))\n",
    "\n",
    "    # lemmatization and get the roots of the words\n",
    "    df_data['text'] = df_data['text'].apply(lambda x: ' '.join(\n",
    "        [Word(word).lemmatize() for word in x.split()]\n",
    "    ))\n",
    "\n",
    "    # remove words less than 3 letters\n",
    "    df_data['text'] = df_data['text'].apply(lambda x: ' '.join(\n",
    "        [x for x in x.split() if len(x) > 3]\n",
    "    ))\n",
    "\n",
    "    return df_data\n",
    "\n",
    "\n",
    "def preprocessing_smsspam_dataset(datafile):\n",
    "    # load dataset\n",
    "    data = pd.read_csv(datafile, encoding='ISO-8859-1', \n",
    "                   engine='python')\n",
    "    #rename dataset columns\n",
    "    data.rename(columns = {\"v1\": \"target\", \"v2\": \"text\"}, inplace = True)\n",
    "\n",
    "    #drop unnecessary columns\n",
    "    data.drop([\"Unnamed: 2\",\"Unnamed: 3\", \"Unnamed: 4\"], axis = 1, inplace = True)\n",
    "\n",
    "    # drop duplicate data\n",
    "    data.drop_duplicates(inplace = True)\n",
    "\n",
    "    # cleaning data\n",
    "    data = cleaning_smsspam_dataset(data)\n",
    "\n",
    "    data['target'].replace({'ham': 0, 'spam': 1}, inplace=True)\n",
    "    x_data = data['text'].values\n",
    "    y_data = data['target'].values\n",
    "\n",
    "    tokenizer = get_tokenizer(tokenizer='spacy', language='en_core_web_trf')\n",
    "    tokens = [tokenizer(doc) for doc in x_data]\n",
    "    \n",
    "    vocab = build_vocab_from_iterator(tokens)\n",
    "    # label = torchtext.legacy.data.LabelField(dtype = torch.float, batch_first=True)\n",
    "    # fields = [(\"type\", label),('text', text)]\n",
    "\n",
    "    # training_data = data.TabularDataset(path=data_file, format=\"csv\", fields=fields, skip_header=True)\n",
    "    # print(dir(training_data))\n",
    "\n",
    "    print(len(vocab))\n",
    "\n",
    "    return data\n",
    "\n",
    "def smsspam_load_data(test_prob):\n",
    "    data_file = \"./datasets/smsspam/spam.csv\"\n",
    "    preprocessing_smsspam_dataset(data_file)\n",
    "    # print(dir(pre))"
   ]
  },
  {
   "cell_type": "code",
   "execution_count": 21,
   "metadata": {},
   "outputs": [
    {
     "name": "stderr",
     "output_type": "stream",
     "text": [
      "C:\\Users\\ADMIN\\AppData\\Local\\Temp\\ipykernel_12372\\1924160923.py:36: FutureWarning: The default value of regex will change from True to False in a future version.\n",
      "  df_data['text'] = df_data['text'].str.replace('[^\\w\\s]', '')\n",
      "C:\\Users\\ADMIN\\AppData\\Local\\Temp\\ipykernel_12372\\1924160923.py:39: FutureWarning: The default value of regex will change from True to False in a future version.\n",
      "  df_data['text'] = df_data['text'].str.replace('\\d', '')\n"
     ]
    },
    {
     "name": "stdout",
     "output_type": "stream",
     "text": [
      "6972\n"
     ]
    }
   ],
   "source": [
    "smsspam_load_data(0.5)"
   ]
  },
  {
   "cell_type": "code",
   "execution_count": null,
   "metadata": {},
   "outputs": [],
   "source": []
  }
 ],
 "metadata": {
  "kernelspec": {
   "display_name": "FLDP_env",
   "language": "python",
   "name": "python3"
  },
  "language_info": {
   "codemirror_mode": {
    "name": "ipython",
    "version": 3
   },
   "file_extension": ".py",
   "mimetype": "text/x-python",
   "name": "python",
   "nbconvert_exporter": "python",
   "pygments_lexer": "ipython3",
   "version": "3.10.4"
  },
  "vscode": {
   "interpreter": {
    "hash": "feb25b4c7695d3b176bda5de41a7795a3d4786c47c38e1dae1d59a33add862d3"
   }
  }
 },
 "nbformat": 4,
 "nbformat_minor": 0
}
