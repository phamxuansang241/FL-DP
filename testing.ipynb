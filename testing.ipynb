{
 "cells": [
  {
   "cell_type": "code",
   "execution_count": 12,
   "outputs": [
    {
     "data": {
      "text/plain": "'D:\\\\Linh TInh\\\\Sang RD\\\\Code\\\\federated_learning_web_attack_detection'"
     },
     "execution_count": 12,
     "metadata": {},
     "output_type": "execute_result"
    }
   ],
   "source": [
    "%pwd"
   ],
   "metadata": {
    "collapsed": false,
    "pycharm": {
     "name": "#%%\n"
    }
   }
  },
  {
   "cell_type": "code",
   "execution_count": 1,
   "outputs": [
    {
     "name": "stderr",
     "output_type": "stream",
     "text": [
      "C:\\Users\\ADMIN\\AppData\\Local\\Programs\\Python\\Python310\\lib\\site-packages\\scipy\\__init__.py:146: UserWarning: A NumPy version >=1.16.5 and <1.23.0 is required for this version of SciPy (detected version 1.24.1\n",
      "  warnings.warn(f\"A NumPy version >={np_minversion} and <{np_maxversion}\"\n"
     ]
    },
    {
     "name": "stdout",
     "output_type": "stream",
     "text": [
      "----------------------------------------------------------------------------------------------------\n",
      "[INFO] DATA INFORMATION\n",
      "Using csic2010 dataset ...\n",
      "+++ csic2010 dataset: +++\n",
      "\tNumber of normal requests:  18640\n",
      "\tNumber of anomalous requests:  15873\n",
      "\tNumber of total requests:  34513\n",
      "Under 400 iterations and the sample_rate = 0.011494252873563218, the sigma of client 0 is 0.30825285613536835\n"
     ]
    },
    {
     "name": "stderr",
     "output_type": "stream",
     "text": [
      "C:\\Users\\ADMIN\\AppData\\Local\\Programs\\Python\\Python310\\lib\\site-packages\\opacus\\privacy_engine.py:142: UserWarning: Secure RNG turned off. This is perfectly fine for experimentation as it allows for much faster training performance, but remember to turn it on and retrain one last time before production with ``secure_mode`` turned on.\n",
      "  warnings.warn(\n"
     ]
    },
    {
     "name": "stdout",
     "output_type": "stream",
     "text": [
      "Under 400 iterations and the sample_rate = 0.011494252873563218, the sigma of client 1 is 0.30825285613536835\n",
      "Under 400 iterations and the sample_rate = 0.011494252873563218, the sigma of client 2 is 0.30825285613536835\n",
      "Under 400 iterations and the sample_rate = 0.011494252873563218, the sigma of client 3 is 0.30825285613536835\n",
      "Under 400 iterations and the sample_rate = 0.011494252873563218, the sigma of client 4 is 0.30825285613536835\n"
     ]
    }
   ],
   "source": [
    "import fed_learn\n",
    "import model_lib\n",
    "import json\n",
    "import numpy as np\n",
    "import data_lib\n",
    "import math\n",
    "with open('config.json', 'r') as openfile:\n",
    "    config = json.load(openfile)\n",
    "\n",
    "global_config = config['global_config']\n",
    "data_config = config['data_config']\n",
    "fed_config = config['fed_config']\n",
    "dp_config = config['dp_config']\n",
    "\n",
    "\"\"\"\n",
    "    PREPROCESSING DATA\n",
    "\"\"\"\n",
    "print('-' * 100)\n",
    "print('[INFO] DATA INFORMATION')\n",
    "\n",
    "num_classes = None\n",
    "model_name = None\n",
    "(x_train, y_train), (x_test, y_test) = (None, None), (None, None)\n",
    "(x_csic2010_train, y_csic2010_train), (x_csic2010_test, y_csic2010_test) = (None, None), (None, None)\n",
    "(x_fwaf_train, y_fwaf_train), (x_fwaf_test, y_fwaf_test) = (None, None), (None, None)\n",
    "(x_httpparams_train, y_httpparams_train), (x_httpparams_test, y_httpparams_test) = (None, None), (None, None)\n",
    "\n",
    "if data_config['dataset_name'] == 'csic2010':\n",
    "    print('Using csic2010 dataset ...')\n",
    "    max_len = 500\n",
    "    (x_train, y_train), (x_test, y_test) = data_lib.csic2010_load_data(0.2, max_len)\n",
    "    num_classes = 2\n",
    "    model_name = 'model_csic2010'\n",
    "elif data_config['dataset_name'] == 'fwaf':\n",
    "    print('Using fwaf dataset ...')\n",
    "    max_len = 500\n",
    "    (x_train, y_train), (x_test, y_test) = data_lib.fwaf_load_data(0.2, max_len)\n",
    "elif data_config['dataset_name'] == 'httpparams':\n",
    "    print('Using httpparams dataset ...')\n",
    "    max_len = 500\n",
    "    (x_train, y_train), (x_test, y_test) = data_lib.httpparams_load_data(0.2, max_len)\n",
    "elif data_config['dataset_name'] == 'fusion':\n",
    "    print('Using three datasets: csic2010, fwaf, httpparams ...')\n",
    "    max_len = 500\n",
    "    (x_csic2010_train, y_csic2010_train), (x_csic2010_test, y_csic2010_test) = data_lib.csic2010_load_data(0.2, max_len)\n",
    "    (x_fwaf_train, y_fwaf_train), (x_fwaf_test, y_fwaf_test) = data_lib.fwaf_load_data(0.2, max_len)\n",
    "    (x_httpparams_train, y_httpparams_train), (x_httpparams_test, y_httpparams_test) = data_lib.httpparams_load_data(0.2, max_len)\n",
    "\n",
    "    x_test = np.concatenate((x_csic2010_test, x_fwaf_test, x_httpparams_test), axis=0)\n",
    "    y_test = np.concatenate((y_csic2010_test, y_fwaf_test, y_httpparams_test), axis=0)\n",
    "\n",
    "def model_fn():\n",
    "    return model_lib.CNN(vocab_size=70,\n",
    "                         embed_dim=128,\n",
    "                         input_length=500,\n",
    "                         num_class=2)\n",
    "\n",
    "training_config = {\n",
    "    'dp_mode': global_config['dp_mode'],\n",
    "    'batch_size': fed_config['batch_size'],\n",
    "    'global_epochs': fed_config['global_epochs'],\n",
    "    'local_epochs': fed_config['local_epochs']\n",
    "    }\n",
    "\n",
    "weight_summarizer = fed_learn.FedAvg()\n",
    "server = fed_learn.Server(model_fn, weight_summarizer, training_config, fed_config, dp_config)\n",
    "server.create_clients()\n",
    "\n",
    "\"\"\"\n",
    "    DISTRIBUTING DATA FOR CLIENTS\n",
    "\"\"\"\n",
    "if data_config['dataset_name'] == 'fusion':\n",
    "    nb_clients_each_datasets = math.ceil(len(server.clients) / 3)\n",
    "\n",
    "    data_handler = data_lib.DataHandler(x_csic2010_train, y_csic2010_train,\n",
    "                                        x_csic2010_test, y_csic2010_test)\n",
    "    data_handler.assign_data_to_clients(server.clients[0:nb_clients_each_datasets],\n",
    "                                        data_config['data_sampling_technique'])\n",
    "    del data_handler\n",
    "\n",
    "    data_handler = data_lib.DataHandler(x_fwaf_train, y_fwaf_train, x_fwaf_test, y_fwaf_test)\n",
    "    data_handler.assign_data_to_clients(server.clients[nb_clients_each_datasets:2*nb_clients_each_datasets],\n",
    "                                        data_config['data_sampling_technique'])\n",
    "    del data_handler\n",
    "\n",
    "    data_handler = data_lib.DataHandler(x_httpparams_train, y_httpparams_train, x_httpparams_test, y_httpparams_test)\n",
    "    data_handler.assign_data_to_clients(server.clients[2*nb_clients_each_datasets:],\n",
    "                                        data_config['data_sampling_technique'])\n",
    "    del data_handler\n",
    "else:\n",
    "    data_handler = data_lib.DataHandler(x_train, y_train, x_test, y_test)\n",
    "    data_handler.assign_data_to_clients(server.clients,\n",
    "                                        data_config['data_sampling_technique'])\n",
    "    del data_handler\n",
    "\n",
    "\n",
    "\n",
    "\n",
    "\n",
    "if global_config['dp_mode']:\n",
    "    server.update_dp_config(dp_config)\n",
    "\n",
    "\n",
    "server.update_training_config(training_config)\n",
    "server.setup()"
   ],
   "metadata": {
    "collapsed": false,
    "pycharm": {
     "name": "#%%\n"
    }
   }
  },
  {
   "cell_type": "code",
   "execution_count": 4,
   "outputs": [
    {
     "name": "stdout",
     "output_type": "stream",
     "text": [
      "[]\n"
     ]
    }
   ],
   "source": [
    "from opacus.validators import ModuleValidator\n",
    "\n",
    "def model_fn():\n",
    "    model = model_lib.CNN(vocab_size=70, embed_dim=128, input_length=max_len, num_class=2)\n",
    "\n",
    "    errors = ModuleValidator.validate(model, strict=False)\n",
    "\n",
    "    print(errors)\n",
    "    if not ModuleValidator.is_valid(model):\n",
    "        model = ModuleValidator.fix(model)\n",
    "        print(\"dsasdasdds\")\n",
    "\n",
    "    return model\n",
    "\n",
    "\n",
    "model = model_fn()"
   ],
   "metadata": {
    "collapsed": false,
    "pycharm": {
     "name": "#%%\n"
    }
   }
  },
  {
   "cell_type": "code",
   "execution_count": null,
   "outputs": [],
   "source": [],
   "metadata": {
    "collapsed": false,
    "pycharm": {
     "name": "#%%\n"
    }
   }
  }
 ],
 "metadata": {
  "kernelspec": {
   "display_name": "Python 3",
   "language": "python",
   "name": "python3"
  },
  "language_info": {
   "codemirror_mode": {
    "name": "ipython",
    "version": 2
   },
   "file_extension": ".py",
   "mimetype": "text/x-python",
   "name": "python",
   "nbconvert_exporter": "python",
   "pygments_lexer": "ipython2",
   "version": "2.7.6"
  }
 },
 "nbformat": 4,
 "nbformat_minor": 0
}