{
 "cells": [
  {
   "cell_type": "code",
   "execution_count": 20,
   "metadata": {
    "collapsed": false,
    "pycharm": {
     "name": "#%%\n"
    }
   },
   "outputs": [
    {
     "data": {
      "text/plain": [
       "'/home/codespace/FL-DP'"
      ]
     },
     "execution_count": 20,
     "metadata": {},
     "output_type": "execute_result"
    }
   ],
   "source": [
    "%pwd"
   ]
  },
  {
   "cell_type": "code",
   "execution_count": 26,
   "metadata": {
    "collapsed": false,
    "pycharm": {
     "name": "#%%\n"
    }
   },
   "outputs": [
    {
     "name": "stderr",
     "output_type": "stream",
     "text": [
      "[nltk_data] Downloading package stopwords to\n",
      "[nltk_data]     /home/codespace/nltk_data...\n",
      "[nltk_data]   Package stopwords is already up-to-date!\n",
      "[nltk_data] Downloading package wordnet to\n",
      "[nltk_data]     /home/codespace/nltk_data...\n",
      "[nltk_data]   Package wordnet is already up-to-date!\n",
      "[nltk_data] Downloading package omw-1.4 to\n",
      "[nltk_data]     /home/codespace/nltk_data...\n",
      "[nltk_data]   Package omw-1.4 is already up-to-date!\n",
      "[nltk_data] Downloading package punkt to /home/codespace/nltk_data...\n",
      "[nltk_data]   Package punkt is already up-to-date!\n"
     ]
    }
   ],
   "source": [
    "from torchtext.data.utils import get_tokenizer\n",
    "from torchtext.vocab import build_vocab_from_iterator\n",
    "\n",
    "import re, string, unicodedata\n",
    "import nltk\n",
    "from nltk.corpus import stopwords\n",
    "from textblob import Word\n",
    "nltk.download('stopwords')\n",
    "nltk.download('wordnet')\n",
    "nltk.download('omw-1.4')\n",
    "nltk.download('punkt')\n",
    "from nltk.stem.porter import PorterStemmer\n",
    "from wordcloud import WordCloud,STOPWORDS\n",
    "from nltk.stem import WordNetLemmatizer\n",
    "from nltk.tokenize import word_tokenize, sent_tokenize\n",
    "from nltk import pos_tag\n",
    "from nltk.corpus import wordnet\n",
    "\n",
    "import numpy as np\n",
    "import pandas as pd"
   ]
  },
  {
   "cell_type": "code",
   "execution_count": 22,
   "metadata": {},
   "outputs": [],
   "source": [
    "def cleaning_smsspam_dataset(df_data):\n",
    "    # covert uppercase letters to lowercase letters\n",
    "    df_data['text'] = df_data['text'].apply(lambda x: ' '.join(\n",
    "        x.lower() for x in x.split()\n",
    "    ))\n",
    "\n",
    "    # delete puctuation marks\n",
    "    df_data['text'] = df_data['text'].str.replace('[^\\w\\s]', '')\n",
    "\n",
    "    # delete numbers from texts\n",
    "    df_data['text'] = df_data['text'].str.replace('\\d', '')\n",
    "\n",
    "    # delete stopwords and punctuation\n",
    "    stop_words = set(stopwords.words('english'))\n",
    "    punctuation = list(string.punctuation)\n",
    "    stop_words.update(punctuation)\n",
    "    df_data['text'] = df_data['text'].apply(lambda x: ' '.join(\n",
    "        x for x in x.split() if x not in stop_words\n",
    "    ))\n",
    "\n",
    "    # lemmatization and get the roots of the words\n",
    "    df_data['text'] = df_data['text'].apply(lambda x: ' '.join(\n",
    "        [Word(word).lemmatize() for word in x.split()]\n",
    "    ))\n",
    "\n",
    "    # remove words less than 3 letters\n",
    "    df_data['text'] = df_data['text'].apply(lambda x: ' '.join(\n",
    "        [x for x in x.split() if len(x) > 3]\n",
    "    ))\n",
    "    \n",
    "    return df_data\n",
    "\n",
    "\n",
    "def preprocessing_smsspam_dataset(datafile):\n",
    "    # load dataset\n",
    "    data = pd.read_csv(datafile, encoding='ISO-8859-1', \n",
    "                   engine='python')\n",
    "    #rename dataset columns\n",
    "    data.rename(columns = {\"v1\": \"target\", \"v2\": \"text\"}, inplace = True)\n",
    "\n",
    "    #drop unnecessary columns\n",
    "    data.drop([\"Unnamed: 2\",\"Unnamed: 3\", \"Unnamed: 4\"], axis = 1, inplace = True)\n",
    "\n",
    "    # drop duplicate data\n",
    "    data.drop_duplicates(inplace = True)\n",
    "\n",
    "    # cleaning data\n",
    "    data = cleaning_smsspam_dataset(data)\n",
    "\n",
    "    return data"
   ]
  },
  {
   "cell_type": "code",
   "execution_count": 35,
   "metadata": {},
   "outputs": [],
   "source": [
    "def smsspam_load_data(test_prob=0.2, max_len=71):\n",
    "    data_file = './datasets/smsspam/spam.csv'\n",
    "    data = preprocessing_smsspam_dataset(data_file)\n",
    "\n",
    "    x_data = data['text'].values\n",
    "    y_data = data['target'].values\n",
    "\n",
    "    print(x_data[0])\n",
    "    print(x_data[1])\n",
    "    tokenizer = get_tokenizer(tokenizer='spacy', language='en_core_web_sm')\n",
    "    \n",
    "    # print(x_data)\n",
    "    vocab = build_vocab_from_iterator([tokenizer(text) for text in x_data])\n",
    "\n",
    "    text_pipeline = lambda x: vocab(tokenizer(x))\n",
    "    \n",
    "    x_data = [text_pipeline(text) for text in x_data]\n",
    "    x_data = [np.asarray(sample, dtype=np.int32) for sample in x_data]\n",
    "    x_data = [np.pad(sample, (0, max(0, max_len-len(sample))), mode='constant', constant_values=0) for sample in x_data]\n",
    "    print(type(x_data))\n",
    "    print(x_data[0].shape)\n",
    "    print(x_data[1])"
   ]
  },
  {
   "cell_type": "code",
   "execution_count": 36,
   "metadata": {},
   "outputs": [
    {
     "name": "stderr",
     "output_type": "stream",
     "text": [
      "/tmp/ipykernel_1596/1833105525.py:8: FutureWarning: The default value of regex will change from True to False in a future version.\n",
      "  df_data['text'] = df_data['text'].str.replace('[^\\w\\s]', '')\n",
      "/tmp/ipykernel_1596/1833105525.py:11: FutureWarning: The default value of regex will change from True to False in a future version.\n",
      "  df_data['text'] = df_data['text'].str.replace('\\d', '')\n"
     ]
    },
    {
     "name": "stdout",
     "output_type": "stream",
     "text": [
      "jurong point crazy available bugis great world buffet cine amore\n",
      "joking\n",
      "<class 'list'>\n",
      "(71,)\n",
      "[897   0   0   0   0   0   0   0   0   0   0   0   0   0   0   0   0   0\n",
      "   0   0   0   0   0   0   0   0   0   0   0   0   0   0   0   0   0   0\n",
      "   0   0   0   0   0   0   0   0   0   0   0   0   0   0   0   0   0   0\n",
      "   0   0   0   0   0   0   0   0   0   0   0   0   0   0   0   0   0]\n"
     ]
    }
   ],
   "source": [
    "smsspam_load_data()"
   ]
  },
  {
   "cell_type": "code",
   "execution_count": 37,
   "metadata": {},
   "outputs": [
    {
     "name": "stdout",
     "output_type": "stream",
     "text": [
      "On branch main\n",
      "Your branch is ahead of 'origin/main' by 2 commits.\n",
      "  (use \"git push\" to publish your local commits)\n",
      "\n",
      "Changes not staged for commit:\n",
      "  (use \"git add <file>...\" to update what will be committed)\n",
      "  (use \"git restore <file>...\" to discard changes in working directory)\n",
      "\t\u001b[31mmodified:   testing.ipynb\u001b[m\n",
      "\n",
      "no changes added to commit (use \"git add\" and/or \"git commit -a\")\n"
     ]
    }
   ],
   "source": [
    "!git status"
   ]
  },
  {
   "cell_type": "code",
   "execution_count": null,
   "metadata": {},
   "outputs": [],
   "source": []
  }
 ],
 "metadata": {
  "kernelspec": {
   "display_name": "FLDP_env",
   "language": "python",
   "name": "python3"
  },
  "language_info": {
   "codemirror_mode": {
    "name": "ipython",
    "version": 3
   },
   "file_extension": ".py",
   "mimetype": "text/x-python",
   "name": "python",
   "nbconvert_exporter": "python",
   "pygments_lexer": "ipython3",
   "version": "3.10.4"
  },
  "vscode": {
   "interpreter": {
    "hash": "f6df391f0c1161cfbde44876906d0f22436976b227808de8fe4fc0975b5835bd"
   }
  }
 },
 "nbformat": 4,
 "nbformat_minor": 0
}
